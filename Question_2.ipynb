{
  "nbformat": 4,
  "nbformat_minor": 0,
  "metadata": {
    "colab": {
      "provenance": [],
      "authorship_tag": "ABX9TyPSsXVRjAE9ch6kf+2IuDpo",
      "include_colab_link": true
    },
    "kernelspec": {
      "name": "python3",
      "display_name": "Python 3"
    },
    "language_info": {
      "name": "python"
    }
  },
  "cells": [
    {
      "cell_type": "markdown",
      "metadata": {
        "id": "view-in-github",
        "colab_type": "text"
      },
      "source": [
        "<a href=\"https://colab.research.google.com/github/AndoorAlanD/DA6401-Assignment-1/blob/main/Question_2.ipynb\" target=\"_parent\"><img src=\"https://colab.research.google.com/assets/colab-badge.svg\" alt=\"Open In Colab\"/></a>"
      ]
    },
    {
      "cell_type": "code",
      "source": [
        "import math\n",
        "import random\n",
        "import numpy as np\n",
        "import matplotlib.pyplot as plt\n",
        "import pandas as pd"
      ],
      "metadata": {
        "id": "_VsynOwyMEjW"
      },
      "execution_count": 1,
      "outputs": []
    },
    {
      "cell_type": "code",
      "execution_count": 2,
      "metadata": {
        "id": "fi5p2ZYML7Mv",
        "colab": {
          "base_uri": "https://localhost:8080/"
        },
        "outputId": "4fa1c397-5452-4952-aa41-32e6ab5c5818"
      },
      "outputs": [
        {
          "output_type": "stream",
          "name": "stdout",
          "text": [
            "Downloading data from https://storage.googleapis.com/tensorflow/tf-keras-datasets/train-labels-idx1-ubyte.gz\n",
            "\u001b[1m29515/29515\u001b[0m \u001b[32m━━━━━━━━━━━━━━━━━━━━\u001b[0m\u001b[37m\u001b[0m \u001b[1m0s\u001b[0m 0us/step\n",
            "Downloading data from https://storage.googleapis.com/tensorflow/tf-keras-datasets/train-images-idx3-ubyte.gz\n",
            "\u001b[1m26421880/26421880\u001b[0m \u001b[32m━━━━━━━━━━━━━━━━━━━━\u001b[0m\u001b[37m\u001b[0m \u001b[1m0s\u001b[0m 0us/step\n",
            "Downloading data from https://storage.googleapis.com/tensorflow/tf-keras-datasets/t10k-labels-idx1-ubyte.gz\n",
            "\u001b[1m5148/5148\u001b[0m \u001b[32m━━━━━━━━━━━━━━━━━━━━\u001b[0m\u001b[37m\u001b[0m \u001b[1m0s\u001b[0m 0us/step\n",
            "Downloading data from https://storage.googleapis.com/tensorflow/tf-keras-datasets/t10k-images-idx3-ubyte.gz\n",
            "\u001b[1m4422102/4422102\u001b[0m \u001b[32m━━━━━━━━━━━━━━━━━━━━\u001b[0m\u001b[37m\u001b[0m \u001b[1m0s\u001b[0m 0us/step\n"
          ]
        }
      ],
      "source": [
        "from keras.datasets import fashion_mnist\n",
        "from sklearn.model_selection import train_test_split\n",
        "(X_train, y_train), (X_test, y_test) = fashion_mnist.load_data()\n",
        "X_train, X_val, y_train, y_val = train_test_split(X_train, y_train, test_size=0.1)\n",
        "class_names= ['T-shirt', 'Trouser','Pullover','Dress','Coat','Sandal','Shirt','Sneaker','Bag','Ankle boot']\n",
        "X_train = X_train.reshape(X_train.shape[0], 28*28) / 255\n",
        "X_test = X_test.reshape(X_test.shape[0], 28*28) /255\n",
        "X_val = X_val.reshape(X_val.shape[0], 28*28) /255"
      ]
    },
    {
      "cell_type": "code",
      "source": [
        "class Feed_Forward_Neural_Network():\n",
        "\n",
        "  def __init__(self, config):\n",
        "    self.theta = []\n",
        "    self.W = []\n",
        "    self.b = []\n",
        "\n",
        "    self.config = config\n",
        "    self.eta = self.config['lr']\n",
        "\n",
        "    self.l = 2\n",
        "    self.L = []\n",
        "    self.L.append(X_train.shape[1])\n",
        "\n",
        "\n",
        "    self.l += self.config['num_layers']\n",
        "    for i in range(self.l-2):\n",
        "      self.L.append(self.config['hidden_size'])\n",
        "    self.L.append(np.max(y_train)+1)\n",
        "\n",
        "    for i in range(self.l-1):\n",
        "      self.W.append(np.random.randn(self.L[i+1], self.L[i])*0.01)\n",
        "      self.b.append(np.random.randn(self.L[i+1]))\n",
        "\n",
        "    if self.config['activation'] == 'sigmoid':\n",
        "      self.act = self.sigmoid\n",
        "      self.act_der = self.sigmoid_der\n",
        "    elif self.config['activation'] == 'tanh':\n",
        "      self.act = self.tanh\n",
        "      self.act_der = self.tanh_der\n",
        "    elif self.config['activation'] == 'ReLU':\n",
        "      self.act = self.relu\n",
        "      self.act_der = self.relu_der\n",
        "    else:\n",
        "      self.act = self.identity\n",
        "      self.act_der = self.identity_der\n",
        "\n",
        "\n",
        "\n",
        "  def identity(self, x):\n",
        "    return x\n",
        "\n",
        "  def identity_der(self, x):\n",
        "    return np.ones(len(x))\n",
        "\n",
        "  def sigmoid(self, x):\n",
        "    return 1 / (1 + np.exp(-np.clip(x, -500, 500)))\n",
        "\n",
        "  def sigmoid_der(self, x):\n",
        "    sg = self.sigmoid(x)\n",
        "    return sg * (1 - sg)\n",
        "\n",
        "  def tanh(self, x):\n",
        "    return np.tanh(x)\n",
        "\n",
        "  def tanh_der(self, x):\n",
        "    new_x = self.tanh(x)\n",
        "    return 1-(new_x*new_x)\n",
        "\n",
        "  def relu(self, x):\n",
        "    return np.maximum(0, x)\n",
        "\n",
        "  def relu_der(self, x):\n",
        "    return (x > 0).astype(int)\n",
        "\n",
        "  def softmax(self, x):\n",
        "    new_x =np.exp(x - np.max(x))\n",
        "    return  new_x / new_x.sum()\n",
        "\n",
        "\n",
        "  def accuracy(self, X=X_val, y=y_val):\n",
        "    correct_predictions = sum(np.argmax(self.feed_forward(x)[-1]) == y_true for x, y_true in zip(X, y))\n",
        "    return (correct_predictions / len(y)) * 100.0\n",
        "\n",
        "\n",
        "  def data_log(self, X=X_train, y=y_train):\n",
        "    val_acc = self.accuracy()\n",
        "    train_acc = self.accuracy(X, y)\n",
        "    val_loss = self.cross_entropy_loss()\n",
        "    train_loss = self.cross_entropy_loss(X, y)\n",
        "\n",
        "    print(\"Validation Accuracy:\", val_acc)\n",
        "    print(\"Validation Loss:\", val_loss)\n",
        "    print(\"Training Accuracy:\", train_acc)\n",
        "    print(\"Training Loss:\", train_loss)\n",
        "\n",
        "\n",
        "  def squared_loss(self, X=X_val, y=y_val):\n",
        "    sq_loss = 0\n",
        "    for (x_in, y_true) in zip(X, y):\n",
        "      _, _, y_pr = self.feed_forward(x_in)\n",
        "      y_pr[y_true] -= 1\n",
        "      sq_loss += np.sum(y_pr**2)\n",
        "    return sq_loss / len(y)\n",
        "\n",
        "  def cross_entropy_loss(self, X=X_val, y=y_val):\n",
        "    loss = 0\n",
        "    for (x_in, y_true) in zip(X, y):\n",
        "      _, _, y_out = self.feed_forward(x_in)\n",
        "      loss -= np.log(y_out[y_true] + 1e-10)\n",
        "    return loss / len(y)\n",
        "\n",
        "\n",
        "  def feed_forward(self, x):\n",
        "    pre_a = []\n",
        "    act_h = [x]\n",
        "\n",
        "    for i in range(self.l-2):\n",
        "      pre_a.append(np.dot(self.W[i], act_h[i]) + self.b[i])\n",
        "      act_h.append(self.act(pre_a[-1]))\n",
        "    pre_a.append(self.b[-1] + np.dot(self.W[-1], act_h[-1]))\n",
        "    y_pred = self.softmax(pre_a[-1])\n",
        "    return pre_a, act_h, y_pred\n",
        "\n",
        "  def back_prop(self, a, h, y, y_pred):\n",
        "    gr_a = []\n",
        "\n",
        "    if(self.config['loss'] == 'squared'):\n",
        "      y_p = y_pred * (1-y_pred)\n",
        "      y_pred[y] -= 1\n",
        "      gr_a = np.array(y_p * y_pred)\n",
        "    else:\n",
        "      for i in range(len(y_pred)):\n",
        "        if(i == y):\n",
        "          gr_a.append(y_pred[i]-1)\n",
        "        else:\n",
        "          gr_a.append(y_pred[i])\n",
        "      gr_a = np.array(gr_a)\n",
        "\n",
        "    i = self.l-1\n",
        "    gr_W, gr_b = [], []\n",
        "    while i>0:\n",
        "      gr_W.append(np.outer(gr_a, np.array(h[i-1])))\n",
        "      gr_b.append(gr_a)\n",
        "      if(i>1):\n",
        "        gr_h = np.matmul(self.W[i-1].T, gr_a)\n",
        "        gr_a = np.multiply(gr_h, self.act_der(a[i-2]))\n",
        "      i -= 1\n",
        "\n",
        "    return gr_W, gr_b\n",
        "\n",
        "  def d_init(self):\n",
        "    dw = [np.zeros_like(w) for w in self.W]\n",
        "    db = [np.zeros_like(bi) for bi in self.b]\n",
        "    return dw, db\n",
        "\n",
        "  def classic_gd(self, X=X_train, y=y_train):\n",
        "    max_epochs = self.config['epochs']\n",
        "    index = 0\n",
        "\n",
        "    for ep in range(max_epochs):\n",
        "      print(f\"Epoch {ep+1}/{max_epochs}\")\n",
        "      dw, db = self.d_init()\n",
        "\n",
        "      for (x, y_true) in zip(X, y):\n",
        "        a, h, y_pred = self.feed_forward(x)\n",
        "        grad_W, grad_b = self.back_prop(a, h, y_true, y_pred)\n",
        "\n",
        "        for i in range(self.l-1):\n",
        "          dw[i] += grad_W[-1-i]\n",
        "          db[i] += grad_b[-1-i]\n",
        "\n",
        "      for i in range(self.l-1):\n",
        "        self.W[i] -= self.eta*dw[i]\n",
        "        self.b[i] -= self.eta*db[i]\n",
        "      dw, db = self.d_init()\n",
        "\n",
        "      self.data_log()\n"
      ],
      "metadata": {
        "id": "TjNR2Op61JeL"
      },
      "execution_count": 38,
      "outputs": []
    },
    {
      "cell_type": "code",
      "source": [
        "config = {\n",
        "    'num_layers': 2,\n",
        "    'hidden_size': 8,\n",
        "    'lr': 0.01, #parameters below this are needed if you are to call the classic_gd()\n",
        "    'epochs': 5,\n",
        "    'activation': 'identity',\n",
        "    'loss': 'squared'\n",
        "}\n",
        "model = Feed_Forward_Neural_Network(config)\n",
        "\n",
        "k=25 #specify for which input you want probability distribution over the 10 classes to be shown.\n",
        "_,_,output_probabilities = model.feed_forward(X_train[k])\n",
        "print(\"Output Probability Distribution:\", output_probabilities.ravel())"
      ],
      "metadata": {
        "colab": {
          "base_uri": "https://localhost:8080/"
        },
        "id": "2lB1XZ8C1NGC",
        "outputId": "f27be9ad-e1ad-431d-f9af-e89ea051bf19"
      },
      "execution_count": 48,
      "outputs": [
        {
          "output_type": "stream",
          "name": "stdout",
          "text": [
            "Output Probability Distribution: [0.16491999 0.03493112 0.0605394  0.07139673 0.0631807  0.07089201\n",
            " 0.04652122 0.26327682 0.1398281  0.08451391]\n"
          ]
        }
      ]
    }
  ]
}