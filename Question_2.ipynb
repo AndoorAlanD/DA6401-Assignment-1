{
  "nbformat": 4,
  "nbformat_minor": 0,
  "metadata": {
    "colab": {
      "provenance": [],
      "authorship_tag": "ABX9TyNt9iO4Cr8uvvIxszU11OkG",
      "include_colab_link": true
    },
    "kernelspec": {
      "name": "python3",
      "display_name": "Python 3"
    },
    "language_info": {
      "name": "python"
    }
  },
  "cells": [
    {
      "cell_type": "markdown",
      "metadata": {
        "id": "view-in-github",
        "colab_type": "text"
      },
      "source": [
        "<a href=\"https://colab.research.google.com/github/AndoorAlanD/DA6401-Assignment-1/blob/main/Question_2.ipynb\" target=\"_parent\"><img src=\"https://colab.research.google.com/assets/colab-badge.svg\" alt=\"Open In Colab\"/></a>"
      ]
    },
    {
      "cell_type": "code",
      "source": [
        "import math\n",
        "import random\n",
        "import numpy as np\n",
        "import matplotlib.pyplot as plt\n",
        "import pandas as pd"
      ],
      "metadata": {
        "id": "_VsynOwyMEjW"
      },
      "execution_count": 18,
      "outputs": []
    },
    {
      "cell_type": "code",
      "execution_count": 19,
      "metadata": {
        "id": "fi5p2ZYML7Mv"
      },
      "outputs": [],
      "source": [
        "from keras.datasets import fashion_mnist\n",
        "from sklearn.model_selection import train_test_split\n",
        "(X_train, y_train), (X_test, y_test) = fashion_mnist.load_data()\n",
        "X_train, X_val, y_train, y_val = train_test_split(X_train, y_train, test_size=0.1)\n",
        "class_names= ['T-shirt', 'Trouser','Pullover','Dress','Coat','Sandal','Shirt','Sneaker','Bag','Ankle boot']\n",
        "X_train = X_train.reshape(X_train.shape[0], 28*28) / 255\n",
        "X_test = X_test.reshape(X_test.shape[0], 28*28) /255\n",
        "X_val = X_val.reshape(X_val.shape[0], 28*28) /255"
      ]
    },
    {
      "cell_type": "code",
      "source": [
        "class FeedForwardNN:\n",
        "  def __init__(self, config):\n",
        "    self.W = []\n",
        "    self.b = []\n",
        "    self.config = config\n",
        "\n",
        "    self.input_size = X_train.shape[1]\n",
        "    self.output_size = 10\n",
        "\n",
        "    self.L = [self.input_size] + [config['hidden_size']] * config['num_layers'] + [self.output_size]\n",
        "\n",
        "    for i in range(len(self.L) - 1):\n",
        "      self.W.append(np.random.randn(self.L[i+1], self.L[i]) * 0.01)\n",
        "      self.b.append(np.zeros((self.L[i+1], 1)))\n",
        "\n",
        "    if config['activation'] == 'ReLU':\n",
        "      self.act = self.relu\n",
        "    elif config['activation'] == 'sigmoid':\n",
        "      self.act = self.sigmoid\n",
        "    elif config['activation']=='tanh':\n",
        "      self.act =self.tanh\n",
        "    else:\n",
        "      self.act = self.identity\n",
        "\n",
        "  def identity(self, x):\n",
        "    return x\n",
        "\n",
        "  def sigmoid(self, x):\n",
        "    return 1 / (1 + np.exp(-np.clip(x, -500, 500)))\n",
        "\n",
        "  def relu(self, x):\n",
        "    return np.maximum(0, x)\n",
        "\n",
        "  def tanh(self, x):\n",
        "    return np.tanh(x)\n",
        "\n",
        "  def softmax(self, x):\n",
        "    exp_x = np.exp(x - np.max(x))\n",
        "    return exp_x / np.sum(exp_x, axis=0, keepdims=True)\n",
        "\n",
        "  def feed_forward(self, x):\n",
        "    x = x.reshape(-1, 1)\n",
        "    h = x\n",
        "    for i in range(len(self.W) - 1):\n",
        "        h = self.act(np.dot(self.W[i], h) + self.b[i])\n",
        "    output = self.softmax(np.dot(self.W[-1], h) + self.b[-1])\n",
        "    return output\n",
        "\n"
      ],
      "metadata": {
        "id": "a6HJR6eks8vd"
      },
      "execution_count": 20,
      "outputs": []
    },
    {
      "cell_type": "code",
      "source": [
        "config = {'num_layers': 2, 'hidden_size': 128, 'activation': 'ident'}\n",
        "nn = FeedForwardNN(config)\n",
        "\n",
        "output_probabilities = nn.feed_forward(X_test[100])\n",
        "print(\"Output Probability Distribution:\", output_probabilities.ravel())\n",
        "# for i, prob in enumerate(output_probabilities.ravel()):\n",
        "#   print(f\"Class {i}: {prob * 100:.2f}%\")"
      ],
      "metadata": {
        "colab": {
          "base_uri": "https://localhost:8080/"
        },
        "id": "hTX5GVqHs9qd",
        "outputId": "9b67777b-b821-40dc-c83c-c2b26fb2b72d"
      },
      "execution_count": 24,
      "outputs": [
        {
          "output_type": "stream",
          "name": "stdout",
          "text": [
            "Output Probability Distribution: [0.09996964 0.09993332 0.10011888 0.09983186 0.10002529 0.1001103\n",
            " 0.09997678 0.10006891 0.09995643 0.1000086 ]\n"
          ]
        }
      ]
    }
  ]
}